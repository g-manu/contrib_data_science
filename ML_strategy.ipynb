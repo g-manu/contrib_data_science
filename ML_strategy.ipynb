{
 "cells": [
  {
   "cell_type": "markdown",
   "metadata": {},
   "source": [
    "## Machine Learning Strategy"
   ]
  },
  {
   "cell_type": "code",
   "execution_count": 1,
   "metadata": {},
   "outputs": [],
   "source": [
    "#Datos\n",
    "import pandas as pd\n",
    "import numpy as np\n",
    "\n",
    "\n",
    "#Graficos \n",
    "import matplotlib.pyplot as plt\n",
    "import seaborn as sns"
   ]
  },
  {
   "cell_type": "code",
   "execution_count": 2,
   "metadata": {},
   "outputs": [],
   "source": [
    "#Modelos\n",
    "\n",
    "from sklearn import preprocessing\n",
    "from sklearn.model_selection import train_test_split\n",
    "from sklearn.linear_model import LinearRegression\n",
    "\n",
    "from sklearn.model_selection import GridSearchCV\n",
    "\n",
    "from sklearn.metrics import r2_score, mean_squared_error, mean_absolute_error\n",
    "\n",
    "\n",
    "from sklearn.neighbors import KNeighborsRegressor,KNeighborsClassifier\n",
    "\n",
    "from sklearn.svm import SVR\n",
    "from sklearn.svm import LinearSVR\n",
    "\n",
    "from sklearn.ensemble import RandomForestRegressor"
   ]
  },
  {
   "cell_type": "code",
   "execution_count": 3,
   "metadata": {},
   "outputs": [],
   "source": [
    "data_df = pd.read_csv(\"Xy_train.csv\",sep=\",\")"
   ]
  },
  {
   "cell_type": "markdown",
   "metadata": {},
   "source": [
    "#### EDA"
   ]
  },
  {
   "cell_type": "code",
   "execution_count": 4,
   "metadata": {},
   "outputs": [
    {
     "name": "stdout",
     "output_type": "stream",
     "text": [
      "<class 'pandas.core.frame.DataFrame'>\n",
      "RangeIndex: 100 entries, 0 to 99\n",
      "Data columns (total 2 columns):\n",
      " #   Column  Non-Null Count  Dtype  \n",
      "---  ------  --------------  -----  \n",
      " 0   X       100 non-null    float64\n",
      " 1   y       100 non-null    float64\n",
      "dtypes: float64(2)\n",
      "memory usage: 1.7 KB\n"
     ]
    }
   ],
   "source": [
    "data_df.info()"
   ]
  },
  {
   "cell_type": "code",
   "execution_count": 5,
   "metadata": {},
   "outputs": [
    {
     "name": "stdout",
     "output_type": "stream",
     "text": [
      "Samples  =====> 100\n",
      "Features =====> 2 \n"
     ]
    }
   ],
   "source": [
    "#Controlo que el dataset se cargo correctamente\n",
    "\n",
    "data_df_shape = np.shape(data_df)\n",
    "\n",
    "print(f'Samples  =====> {data_df_shape[0]}')\n",
    "print(f'Features =====> {data_df_shape[1]} ')"
   ]
  },
  {
   "cell_type": "code",
   "execution_count": 6,
   "metadata": {},
   "outputs": [
    {
     "data": {
      "text/plain": [
       "X    False\n",
       "y    False\n",
       "dtype: bool"
      ]
     },
     "execution_count": 6,
     "metadata": {},
     "output_type": "execute_result"
    }
   ],
   "source": [
    "#En busca de datos nullos\n",
    "data_df.isnull().any()"
   ]
  },
  {
   "cell_type": "code",
   "execution_count": 7,
   "metadata": {},
   "outputs": [
    {
     "data": {
      "text/plain": [
       "X    0\n",
       "y    0\n",
       "dtype: int64"
      ]
     },
     "execution_count": 7,
     "metadata": {},
     "output_type": "execute_result"
    }
   ],
   "source": [
    "#cantidad de datos nulos\n",
    "data_df.isnull().sum()"
   ]
  },
  {
   "cell_type": "code",
   "execution_count": 8,
   "metadata": {},
   "outputs": [
    {
     "data": {
      "text/html": [
       "<div>\n",
       "<style scoped>\n",
       "    .dataframe tbody tr th:only-of-type {\n",
       "        vertical-align: middle;\n",
       "    }\n",
       "\n",
       "    .dataframe tbody tr th {\n",
       "        vertical-align: top;\n",
       "    }\n",
       "\n",
       "    .dataframe thead th {\n",
       "        text-align: right;\n",
       "    }\n",
       "</style>\n",
       "<table border=\"1\" class=\"dataframe\">\n",
       "  <thead>\n",
       "    <tr style=\"text-align: right;\">\n",
       "      <th></th>\n",
       "      <th>X</th>\n",
       "      <th>y</th>\n",
       "    </tr>\n",
       "  </thead>\n",
       "  <tbody>\n",
       "    <tr>\n",
       "      <th>count</th>\n",
       "      <td>100.000000</td>\n",
       "      <td>100.000000</td>\n",
       "    </tr>\n",
       "    <tr>\n",
       "      <th>mean</th>\n",
       "      <td>4.534694</td>\n",
       "      <td>5.073047</td>\n",
       "    </tr>\n",
       "    <tr>\n",
       "      <th>std</th>\n",
       "      <td>2.734487</td>\n",
       "      <td>2.398315</td>\n",
       "    </tr>\n",
       "    <tr>\n",
       "      <th>min</th>\n",
       "      <td>0.050223</td>\n",
       "      <td>-0.259323</td>\n",
       "    </tr>\n",
       "    <tr>\n",
       "      <th>25%</th>\n",
       "      <td>2.415300</td>\n",
       "      <td>3.735343</td>\n",
       "    </tr>\n",
       "    <tr>\n",
       "      <th>50%</th>\n",
       "      <td>3.999217</td>\n",
       "      <td>4.670649</td>\n",
       "    </tr>\n",
       "    <tr>\n",
       "      <th>75%</th>\n",
       "      <td>6.686171</td>\n",
       "      <td>5.761732</td>\n",
       "    </tr>\n",
       "    <tr>\n",
       "      <th>max</th>\n",
       "      <td>9.728298</td>\n",
       "      <td>13.930549</td>\n",
       "    </tr>\n",
       "  </tbody>\n",
       "</table>\n",
       "</div>"
      ],
      "text/plain": [
       "                X           y\n",
       "count  100.000000  100.000000\n",
       "mean     4.534694    5.073047\n",
       "std      2.734487    2.398315\n",
       "min      0.050223   -0.259323\n",
       "25%      2.415300    3.735343\n",
       "50%      3.999217    4.670649\n",
       "75%      6.686171    5.761732\n",
       "max      9.728298   13.930549"
      ]
     },
     "execution_count": 8,
     "metadata": {},
     "output_type": "execute_result"
    }
   ],
   "source": [
    "data_df.describe()\n",
    "#El 75% de los datos tienen valores inferiores a 6.68...\n",
    "#la mediana tiene una valor de 3.99...  me dice que el 50% de los datos tiene una valor inferior a 3.99 "
   ]
  },
  {
   "cell_type": "code",
   "execution_count": 9,
   "metadata": {},
   "outputs": [
    {
     "data": {
      "image/png": "[encoded data removed]",
      "text/plain": [
       "<Figure size 432x288 with 1 Axes>"
      ]
     },
     "metadata": {
      "needs_background": "light"
     },
     "output_type": "display_data"
    }
   ],
   "source": [
    "#analizo la distribucion de las features\n",
    "sns.distplot(data_df.X)\n",
    "plt.title('Distribución de datos de entrada --> X <--')\n",
    "plt.xlabel('Feature X')\n",
    "plt.show()"
   ]
  },
  {
   "cell_type": "code",
   "execution_count": 10,
   "metadata": {},
   "outputs": [
    {
     "data": {
      "image/png": "[encoded data removed]",
      "text/plain": [
       "<Figure size 432x288 with 1 Axes>"
      ]
     },
     "metadata": {
      "needs_background": "light"
     },
     "output_type": "display_data"
    }
   ],
   "source": [
    "sns.distplot(data_df.y)\n",
    "plt.title('Distribución de datos de entrada --> y <--')\n",
    "plt.xlabel('Feature y')\n",
    "plt.show()\n",
    "#veo  que los feature y tiene una distribucion normal, es un buen indicativo que existe una correlacion entre los datos.\n",
    "#el problema me parece que las prediciones lo va a tener con los datos superiores a 7.5 como lo indicaba la funcion decribe "
   ]
  },
  {
   "cell_type": "code",
   "execution_count": 11,
   "metadata": {},
   "outputs": [
    {
     "data": {
      "image/png": "[encoded data removed]",
      "text/plain": [
       "<Figure size 432x288 with 1 Axes>"
      ]
     },
     "metadata": {
      "needs_background": "light"
     },
     "output_type": "display_data"
    }
   ],
   "source": [
    "# el resultado anterior me mostro que la feature y, puede ser que tenga dispersion. analizo con un boxplot outliers\n",
    "plt.boxplot(data_df.y)\n",
    "plt.title('Analisis de outliers')\n",
    "plt.ylabel('datos en y ')\n",
    "plt.xlabel(\"feature y\")\n",
    "plt.show()"
   ]
  },
  {
   "cell_type": "code",
   "execution_count": 12,
   "metadata": {},
   "outputs": [
    {
     "data": {
      "image/png": "[encoded data removed]",
      "text/plain": [
       "<Figure size 360x360 with 6 Axes>"
      ]
     },
     "metadata": {
      "needs_background": "light"
     },
     "output_type": "display_data"
    }
   ],
   "source": [
    "sns.pairplot(data_df)\n",
    "plt.show()"
   ]
  },
  {
   "cell_type": "code",
   "execution_count": 13,
   "metadata": {},
   "outputs": [
    {
     "data": {
      "image/png": "[encoded data removed]",
      "text/plain": [
       "<Figure size 432x288 with 1 Axes>"
      ]
     },
     "metadata": {
      "needs_background": "light"
     },
     "output_type": "display_data"
    }
   ],
   "source": [
    "\n",
    "sns.scatterplot(data_df.y,data_df.X,palette='muted')\n",
    "plt.show()\n"
   ]
  },
  {
   "cell_type": "code",
   "execution_count": 14,
   "metadata": {
    "scrolled": true
   },
   "outputs": [
    {
     "data": {
      "image/png": "[encoded data removed]",
      "text/plain": [
       "<Figure size 432x288 with 1 Axes>"
      ]
     },
     "metadata": {
      "needs_background": "light"
     },
     "output_type": "display_data"
    }
   ],
   "source": [
    "\n",
    "sns.scatterplot(data_df.X,data_df.y,palette='muted')\n",
    "plt.show()"
   ]
  },
  {
   "cell_type": "markdown",
   "metadata": {},
   "source": [
    "### Cargo datos de test (externo)"
   ]
  },
  {
   "cell_type": "code",
   "execution_count": 15,
   "metadata": {},
   "outputs": [],
   "source": [
    "xtest_ext = pd.read_csv(\"X_test.csv\",sep=\",\")"
   ]
  },
  {
   "cell_type": "code",
   "execution_count": 16,
   "metadata": {},
   "outputs": [
    {
     "data": {
      "text/html": [
       "<div>\n",
       "<style scoped>\n",
       "    .dataframe tbody tr th:only-of-type {\n",
       "        vertical-align: middle;\n",
       "    }\n",
       "\n",
       "    .dataframe tbody tr th {\n",
       "        vertical-align: top;\n",
       "    }\n",
       "\n",
       "    .dataframe thead th {\n",
       "        text-align: right;\n",
       "    }\n",
       "</style>\n",
       "<table border=\"1\" class=\"dataframe\">\n",
       "  <thead>\n",
       "    <tr style=\"text-align: right;\">\n",
       "      <th></th>\n",
       "      <th>X</th>\n",
       "    </tr>\n",
       "  </thead>\n",
       "  <tbody>\n",
       "    <tr>\n",
       "      <th>0</th>\n",
       "      <td>6.170800</td>\n",
       "    </tr>\n",
       "    <tr>\n",
       "      <th>1</th>\n",
       "      <td>6.302022</td>\n",
       "    </tr>\n",
       "    <tr>\n",
       "      <th>2</th>\n",
       "      <td>8.689293</td>\n",
       "    </tr>\n",
       "  </tbody>\n",
       "</table>\n",
       "</div>"
      ],
      "text/plain": [
       "          X\n",
       "0  6.170800\n",
       "1  6.302022\n",
       "2  8.689293"
      ]
     },
     "execution_count": 16,
     "metadata": {},
     "output_type": "execute_result"
    }
   ],
   "source": [
    "xtest_ext.head(3)"
   ]
  },
  {
   "cell_type": "code",
   "execution_count": 17,
   "metadata": {},
   "outputs": [
    {
     "data": {
      "image/png": "[encoded data removed]",
      "text/plain": [
       "<Figure size 432x288 with 1 Axes>"
      ]
     },
     "metadata": {
      "needs_background": "light"
     },
     "output_type": "display_data"
    }
   ],
   "source": [
    "#analizo la distribucion de las features\n",
    "sns.distplot(xtest_ext.X)\n",
    "plt.title('Distribución de datos de entrada --> X (test) <--')\n",
    "plt.xlabel('Feature X')\n",
    "plt.show()"
   ]
  },
  {
   "cell_type": "code",
   "execution_count": 18,
   "metadata": {},
   "outputs": [],
   "source": [
    "xtscaler = preprocessing.StandardScaler()"
   ]
  },
  {
   "cell_type": "code",
   "execution_count": 19,
   "metadata": {},
   "outputs": [],
   "source": [
    "xtest_ext_scal = xtscaler.fit_transform(xtest_ext.values.reshape(-1,1))  "
   ]
  },
  {
   "cell_type": "code",
   "execution_count": 20,
   "metadata": {},
   "outputs": [
    {
     "data": {
      "text/plain": [
       "array([[ 0.25304312],\n",
       "       [ 0.30209476],\n",
       "       [ 1.19447251],\n",
       "       [-1.16514287],\n",
       "       [-1.04162874],\n",
       "       [ 0.39701419],\n",
       "       [ 1.12093404],\n",
       "       [-2.01212641],\n",
       "       [ 1.35601497],\n",
       "       [-1.05356903],\n",
       "       [-0.84145106],\n",
       "       [ 0.34481206],\n",
       "       [ 1.36996505],\n",
       "       [-1.80706131],\n",
       "       [-0.30333839],\n",
       "       [ 0.97775236],\n",
       "       [-0.19882624],\n",
       "       [ 0.19437617],\n",
       "       [ 0.61885656],\n",
       "       [ 0.29380825]])"
      ]
     },
     "execution_count": 20,
     "metadata": {},
     "output_type": "execute_result"
    }
   ],
   "source": [
    "xtest_ext_scal"
   ]
  },
  {
   "cell_type": "markdown",
   "metadata": {},
   "source": [
    "### Modeling"
   ]
  },
  {
   "cell_type": "code",
   "execution_count": 21,
   "metadata": {},
   "outputs": [],
   "source": [
    "xtrain, xtest, ytrain, ytest = train_test_split(data_df.X, data_df.y, test_size=0.2, random_state=123)"
   ]
  },
  {
   "cell_type": "code",
   "execution_count": 22,
   "metadata": {},
   "outputs": [
    {
     "data": {
      "text/plain": [
       "(80,)"
      ]
     },
     "execution_count": 22,
     "metadata": {},
     "output_type": "execute_result"
    }
   ],
   "source": [
    "xtrain.shape"
   ]
  },
  {
   "cell_type": "code",
   "execution_count": 23,
   "metadata": {},
   "outputs": [
    {
     "data": {
      "text/plain": [
       "(20,)"
      ]
     },
     "execution_count": 23,
     "metadata": {},
     "output_type": "execute_result"
    }
   ],
   "source": [
    "xtest.shape"
   ]
  },
  {
   "cell_type": "code",
   "execution_count": 24,
   "metadata": {},
   "outputs": [],
   "source": [
    "scaler = preprocessing.StandardScaler()"
   ]
  },
  {
   "cell_type": "code",
   "execution_count": 25,
   "metadata": {},
   "outputs": [],
   "source": [
    "xtrain_scal = scaler.fit_transform(xtrain.values.reshape(-1,1))"
   ]
  },
  {
   "cell_type": "code",
   "execution_count": 26,
   "metadata": {},
   "outputs": [],
   "source": [
    "xtest_scal = scaler.transform(xtest.values.reshape(-1,1))  "
   ]
  },
  {
   "cell_type": "code",
   "execution_count": 27,
   "metadata": {},
   "outputs": [
    {
     "data": {
      "text/plain": [
       "array([[ 0.68503188],\n",
       "       [ 1.36403784],\n",
       "       [-0.83714246],\n",
       "       [-1.39819904],\n",
       "       [-0.79263528],\n",
       "       [-0.91181318],\n",
       "       [-0.53367151],\n",
       "       [-0.71446905],\n",
       "       [-1.10168334],\n",
       "       [-0.32467983],\n",
       "       [-0.05908774],\n",
       "       [-0.96686847],\n",
       "       [-0.83321298],\n",
       "       [-0.81180394],\n",
       "       [-0.77169218],\n",
       "       [-0.54056551],\n",
       "       [-1.42004271],\n",
       "       [ 0.04772753],\n",
       "       [-1.1883399 ],\n",
       "       [ 0.99734689]])"
      ]
     },
     "execution_count": 27,
     "metadata": {},
     "output_type": "execute_result"
    }
   ],
   "source": [
    "xtest_scal"
   ]
  },
  {
   "cell_type": "code",
   "execution_count": 28,
   "metadata": {},
   "outputs": [
    {
     "data": {
      "text/plain": [
       "35    10.150170\n",
       "88     4.744847\n",
       "19     5.424035\n",
       "29     2.764357\n",
       "31     2.813019\n",
       "        ...    \n",
       "57     4.151968\n",
       "83     2.959672\n",
       "17     6.039839\n",
       "92     7.570916\n",
       "66     5.444029\n",
       "Name: y, Length: 80, dtype: float64"
      ]
     },
     "execution_count": 28,
     "metadata": {},
     "output_type": "execute_result"
    }
   ],
   "source": [
    "ytrain"
   ]
  },
  {
   "cell_type": "markdown",
   "metadata": {},
   "source": [
    "#### Modelo KNN Regression Model"
   ]
  },
  {
   "cell_type": "code",
   "execution_count": 29,
   "metadata": {},
   "outputs": [],
   "source": [
    "model_knn = KNeighborsRegressor()"
   ]
  },
  {
   "cell_type": "code",
   "execution_count": 30,
   "metadata": {},
   "outputs": [],
   "source": [
    "\n",
    "#Definimos diccionario con hyperparametros\n",
    "\n",
    "parameters_knn = [{'n_neighbors': [3,5,10],\n",
    "                   \"weights\": ['uniform', 'distance'],\n",
    "                   \"metric\": ['euclidean','manhattan','chebyshev','minkowski'],\n",
    "                  'algorithm':['ball_tree', 'kd_tree', 'brute']}]"
   ]
  },
  {
   "cell_type": "code",
   "execution_count": 31,
   "metadata": {},
   "outputs": [],
   "source": [
    "#Definimos el objeto grid search con los parametros anteriores\n",
    "knn_gs = GridSearchCV(model_knn, param_grid=parameters_knn, cv=5, scoring=\"neg_mean_squared_error\",\n",
    "                  n_jobs=5,verbose=3,refit=True)"
   ]
  },
  {
   "cell_type": "code",
   "execution_count": 32,
   "metadata": {},
   "outputs": [
    {
     "name": "stdout",
     "output_type": "stream",
     "text": [
      "Fitting 5 folds for each of 72 candidates, totalling 360 fits\n"
     ]
    },
    {
     "name": "stderr",
     "output_type": "stream",
     "text": [
      "[Parallel(n_jobs=5)]: Using backend LokyBackend with 5 concurrent workers.\n",
      "[Parallel(n_jobs=5)]: Done  22 tasks      | elapsed:    1.4s\n",
      "[Parallel(n_jobs=5)]: Done 360 out of 360 | elapsed:    1.8s finished\n"
     ]
    },
    {
     "data": {
      "text/plain": [
       "GridSearchCV(cv=5, estimator=KNeighborsRegressor(), n_jobs=5,\n",
       "             param_grid=[{'algorithm': ['ball_tree', 'kd_tree', 'brute'],\n",
       "                          'metric': ['euclidean', 'manhattan', 'chebyshev',\n",
       "                                     'minkowski'],\n",
       "                          'n_neighbors': [3, 5, 10],\n",
       "                          'weights': ['uniform', 'distance']}],\n",
       "             scoring='neg_mean_squared_error', verbose=3)"
      ]
     },
     "execution_count": 32,
     "metadata": {},
     "output_type": "execute_result"
    }
   ],
   "source": [
    "# Entrenamos\n",
    "knn_gs.fit(xtrain_scal, ytrain)"
   ]
  },
  {
   "cell_type": "code",
   "execution_count": 33,
   "metadata": {},
   "outputs": [
    {
     "name": "stdout",
     "output_type": "stream",
     "text": [
      "{'algorithm': 'ball_tree', 'metric': 'euclidean', 'n_neighbors': 5, 'weights': 'uniform'}\n"
     ]
    }
   ],
   "source": [
    "print(knn_gs.best_params_)"
   ]
  },
  {
   "cell_type": "code",
   "execution_count": 34,
   "metadata": {},
   "outputs": [],
   "source": [
    "# 3) Obtengo las predicciones que realiza mi modelo con las muestras de test\n",
    "knn_ypred = knn_gs.predict(xtest_scal)"
   ]
  },
  {
   "cell_type": "code",
   "execution_count": 35,
   "metadata": {},
   "outputs": [
    {
     "data": {
      "text/plain": [
       "array([3.65487916, 7.36888156, 4.88613521, 2.28532632, 4.88613521,\n",
       "       4.78494689, 4.79274398, 5.08127877, 5.17073537, 4.94038037,\n",
       "       3.99365163, 4.53672149, 4.88613521, 4.88613521, 4.67113426,\n",
       "       4.79274398, 2.28532632, 4.20821593, 4.38634588, 5.09129957])"
      ]
     },
     "execution_count": 35,
     "metadata": {},
     "output_type": "execute_result"
    }
   ],
   "source": [
    "knn_ypred"
   ]
  },
  {
   "cell_type": "code",
   "execution_count": 36,
   "metadata": {},
   "outputs": [],
   "source": [
    "#Calculamos las metricas R2, MSE y MAE\n",
    "knn_r2 = r2_score(y_true=ytest, y_pred=knn_ypred)\n",
    "knn_mse = mean_squared_error(y_true=ytest, y_pred=knn_ypred)\n",
    "knn_mae = mean_absolute_error(y_true=ytest, y_pred=knn_ypred)"
   ]
  },
  {
   "cell_type": "code",
   "execution_count": 37,
   "metadata": {},
   "outputs": [
    {
     "name": "stdout",
     "output_type": "stream",
     "text": [
      "R2 score: 0.457547\n",
      "MAE: 0.687965\n",
      "MSE: 0.675282\n"
     ]
    }
   ],
   "source": [
    "print(f'R2 score: {knn_r2:.6f}')\n",
    "print(f'MAE: {knn_mae:.6f}')\n",
    "print(f'MSE: {knn_mse:.6f}')"
   ]
  },
  {
   "cell_type": "code",
   "execution_count": 38,
   "metadata": {},
   "outputs": [
    {
     "data": {
      "image/png": "[encoded data removed]",
      "text/plain": [
       "<Figure size 432x288 with 1 Axes>"
      ]
     },
     "metadata": {
      "needs_background": "light"
     },
     "output_type": "display_data"
    }
   ],
   "source": [
    "# el modelo  grafico\n",
    "plt.scatter(xtrain_scal,ytrain)\n",
    "plt.scatter(xtest_scal,knn_ypred,color='blue')\n",
    "plt.title('Comparo datos train y prediction- modelo knn')\n",
    "plt.show()"
   ]
  },
  {
   "cell_type": "code",
   "execution_count": 39,
   "metadata": {},
   "outputs": [],
   "source": [
    "# 3) Obtengo las predicciones que realiza mi modelo con las muestras de test\n",
    "knn_ypred_ext = knn_gs.best_estimator_.predict(xtest_ext_scal)"
   ]
  },
  {
   "cell_type": "code",
   "execution_count": 40,
   "metadata": {},
   "outputs": [],
   "source": [
    "#Calculamos las metricas R2, MSE y MAE\n",
    "knn_e_r2 = r2_score(y_true=ytest, y_pred=knn_ypred_ext)\n",
    "knn_e_mse = mean_squared_error(y_true=ytest, y_pred=knn_ypred_ext)\n",
    "knn_e_mae = mean_absolute_error(y_true=ytest, y_pred=knn_ypred_ext)"
   ]
  },
  {
   "cell_type": "code",
   "execution_count": 41,
   "metadata": {},
   "outputs": [
    {
     "name": "stdout",
     "output_type": "stream",
     "text": [
      "R2 score: -2.354507\n",
      "MAE: 1.599636\n",
      "MSE: 4.175920\n"
     ]
    }
   ],
   "source": [
    "print(f'R2 score: {knn_e_r2:.6f}')\n",
    "print(f'MAE: {knn_e_mae:.6f}')\n",
    "print(f'MSE: {knn_e_mse:.6f}')"
   ]
  },
  {
   "cell_type": "code",
   "execution_count": 42,
   "metadata": {},
   "outputs": [
    {
     "data": {
      "image/png": "[encoded data removed]",
      "text/plain": [
       "<Figure size 432x288 with 1 Axes>"
      ]
     },
     "metadata": {
      "needs_background": "light"
     },
     "output_type": "display_data"
    }
   ],
   "source": [
    "# el modelo lineal no sirve como se puede ver en el grafico\n",
    "plt.scatter(xtrain_scal,ytrain)\n",
    "plt.scatter(xtest_ext_scal,knn_ypred_ext,color='red')\n",
    "plt.title('Comparo datos train y prediction- modelo knn-datos nuevos')\n",
    "plt.show()"
   ]
  },
  {
   "cell_type": "markdown",
   "metadata": {},
   "source": [
    "#### Modelo  SVR"
   ]
  },
  {
   "cell_type": "code",
   "execution_count": 43,
   "metadata": {},
   "outputs": [],
   "source": [
    "model_svr = SVR()"
   ]
  },
  {
   "cell_type": "code",
   "execution_count": 44,
   "metadata": {},
   "outputs": [],
   "source": [
    "\n",
    "\n",
    "#Definimos diccionario con hyperparametros\n",
    "\n",
    "parameters_svr = [{ 'C': [1,100], \n",
    "                   'kernel':['rbf'] ,\n",
    "                   'epsilon' : [0.001, 0.01, 0.1,1, 10,100] ,\n",
    "                   'gamma': [0.01,0.1,0.5] }]\n",
    "\n",
    "#Definimos el objeto grid search con los parametros anteriores\n",
    "\n",
    "svr_gs = GridSearchCV(model_svr, param_grid=parameters_svr,cv=5, scoring=\"neg_mean_squared_error\",\n",
    "                  n_jobs=5,verbose=3,refit=True)"
   ]
  },
  {
   "cell_type": "code",
   "execution_count": 45,
   "metadata": {},
   "outputs": [
    {
     "name": "stdout",
     "output_type": "stream",
     "text": [
      "Fitting 5 folds for each of 36 candidates, totalling 180 fits\n"
     ]
    },
    {
     "name": "stderr",
     "output_type": "stream",
     "text": [
      "[Parallel(n_jobs=5)]: Using backend LokyBackend with 5 concurrent workers.\n",
      "[Parallel(n_jobs=5)]: Done  38 tasks      | elapsed:    0.0s\n",
      "[Parallel(n_jobs=5)]: Done 180 out of 180 | elapsed:    0.3s finished\n"
     ]
    },
    {
     "data": {
      "text/plain": [
       "GridSearchCV(cv=5, estimator=SVR(), n_jobs=5,\n",
       "             param_grid=[{'C': [1, 100],\n",
       "                          'epsilon': [0.001, 0.01, 0.1, 1, 10, 100],\n",
       "                          'gamma': [0.01, 0.1, 0.5], 'kernel': ['rbf']}],\n",
       "             scoring='neg_mean_squared_error', verbose=3)"
      ]
     },
     "execution_count": 45,
     "metadata": {},
     "output_type": "execute_result"
    }
   ],
   "source": [
    "# Entrenamos\n",
    "svr_gs.fit(xtrain_scal, ytrain)"
   ]
  },
  {
   "cell_type": "code",
   "execution_count": 46,
   "metadata": {},
   "outputs": [
    {
     "name": "stdout",
     "output_type": "stream",
     "text": [
      "{'C': 100, 'epsilon': 1, 'gamma': 0.5, 'kernel': 'rbf'}\n"
     ]
    }
   ],
   "source": [
    "print(svr_gs.best_params_)"
   ]
  },
  {
   "cell_type": "code",
   "execution_count": 47,
   "metadata": {},
   "outputs": [],
   "source": [
    "#Calculamos las metricas R2, MSE y MAE\n",
    "\n",
    "svr_ypred = svr_gs.best_estimator_.predict(xtest_scal)\n",
    "svr_r2 = r2_score(y_true=ytest, y_pred=svr_ypred)\n",
    "svr_mse = mean_squared_error(y_true=ytest, y_pred=svr_ypred)\n",
    "svr_mae = mean_absolute_error(y_true=ytest, y_pred=svr_ypred)"
   ]
  },
  {
   "cell_type": "code",
   "execution_count": 48,
   "metadata": {},
   "outputs": [
    {
     "name": "stdout",
     "output_type": "stream",
     "text": [
      "R2 score: 0.596712\n",
      "MAE: 0.541795\n",
      "MSE: 0.502041\n"
     ]
    }
   ],
   "source": [
    "print(f'R2 score: {svr_r2:.6f}')\n",
    "print(f'MAE: {svr_mae:.6f}')\n",
    "print(f'MSE: {svr_mse:.6f}')"
   ]
  },
  {
   "cell_type": "code",
   "execution_count": 49,
   "metadata": {},
   "outputs": [
    {
     "data": {
      "image/png": "[encoded data removed]",
      "text/plain": [
       "<Figure size 432x288 with 1 Axes>"
      ]
     },
     "metadata": {
      "needs_background": "light"
     },
     "output_type": "display_data"
    }
   ],
   "source": [
    "# el modelo grafico\n",
    "plt.scatter(xtrain_scal,ytrain)\n",
    "plt.scatter(xtest_scal,svr_ypred,color='blue')\n",
    "plt.title('Comparo datos train y prediction- modelo svr')\n",
    "plt.show()"
   ]
  },
  {
   "cell_type": "code",
   "execution_count": 50,
   "metadata": {},
   "outputs": [],
   "source": [
    "#Calculamos las metricas R2, MSE y MAE\n",
    "\n",
    "svr_ypred_ext = svr_gs.best_estimator_.predict(xtest_ext_scal)\n",
    "svr_e_r2 = r2_score(y_true=ytest, y_pred=svr_ypred_ext)\n",
    "svr_e_mse = mean_squared_error(y_true=ytest, y_pred=svr_ypred_ext)\n",
    "svr_e_mae = mean_absolute_error(y_true=ytest, y_pred=svr_ypred_ext)"
   ]
  },
  {
   "cell_type": "code",
   "execution_count": 51,
   "metadata": {},
   "outputs": [
    {
     "name": "stdout",
     "output_type": "stream",
     "text": [
      "R2 score: -4.082750\n",
      "MAE: 1.767550\n",
      "MSE: 6.327355\n"
     ]
    }
   ],
   "source": [
    "print(f'R2 score: {svr_e_r2:.6f}')\n",
    "print(f'MAE: {svr_e_mae:.6f}')\n",
    "print(f'MSE: {svr_e_mse:.6f}')"
   ]
  },
  {
   "cell_type": "code",
   "execution_count": 52,
   "metadata": {},
   "outputs": [
    {
     "data": {
      "image/png": "[encoded data removed]",
      "text/plain": [
       "<Figure size 432x288 with 1 Axes>"
      ]
     },
     "metadata": {
      "needs_background": "light"
     },
     "output_type": "display_data"
    }
   ],
   "source": [
    "# el modelo grafico\n",
    "plt.scatter(xtrain_scal,ytrain)\n",
    "plt.scatter(xtest_ext_scal,svr_ypred_ext,color='red')\n",
    "plt.title('Comparo datos train y prediction- modelo svr-datos nuevos')\n",
    "plt.show()"
   ]
  },
  {
   "cell_type": "markdown",
   "metadata": {},
   "source": [
    "#### Modelo Random Forest regressor"
   ]
  },
  {
   "cell_type": "code",
   "execution_count": 53,
   "metadata": {},
   "outputs": [],
   "source": [
    "model_rfr = RandomForestRegressor()"
   ]
  },
  {
   "cell_type": "code",
   "execution_count": 54,
   "metadata": {},
   "outputs": [],
   "source": [
    "#Definimos diccionario con hyperparametros\n",
    "\n",
    "parameters_rfr = [{ 'criterion': ['mse', 'mae'], \n",
    "                   'max_features':['sqrt', 'log2'] ,\n",
    "                   'random_state' : [10,20,30] ,\n",
    "                   'n_estimators': [100, 200, 300, 1000] }]\n",
    "\n",
    "#Definimos el objeto grid search con los parametros anteriores\n",
    "\n",
    "rfr_gs = GridSearchCV(model_rfr, param_grid=parameters_rfr,cv=5, scoring=\"neg_mean_squared_error\",\n",
    "                  n_jobs=5,verbose=3,refit=True)"
   ]
  },
  {
   "cell_type": "code",
   "execution_count": 55,
   "metadata": {},
   "outputs": [
    {
     "name": "stdout",
     "output_type": "stream",
     "text": [
      "Fitting 5 folds for each of 48 candidates, totalling 240 fits\n"
     ]
    },
    {
     "name": "stderr",
     "output_type": "stream",
     "text": [
      "[Parallel(n_jobs=5)]: Using backend LokyBackend with 5 concurrent workers.\n",
      "[Parallel(n_jobs=5)]: Done  34 tasks      | elapsed:    1.7s\n",
      "[Parallel(n_jobs=5)]: Done 148 tasks      | elapsed:   13.4s\n",
      "[Parallel(n_jobs=5)]: Done 240 out of 240 | elapsed:   26.2s finished\n"
     ]
    },
    {
     "data": {
      "text/plain": [
       "GridSearchCV(cv=5, estimator=RandomForestRegressor(), n_jobs=5,\n",
       "             param_grid=[{'criterion': ['mse', 'mae'],\n",
       "                          'max_features': ['sqrt', 'log2'],\n",
       "                          'n_estimators': [100, 200, 300, 1000],\n",
       "                          'random_state': [10, 20, 30]}],\n",
       "             scoring='neg_mean_squared_error', verbose=3)"
      ]
     },
     "execution_count": 55,
     "metadata": {},
     "output_type": "execute_result"
    }
   ],
   "source": [
    "rfr_gs.fit(xtrain_scal, ytrain)"
   ]
  },
  {
   "cell_type": "code",
   "execution_count": 56,
   "metadata": {},
   "outputs": [
    {
     "name": "stdout",
     "output_type": "stream",
     "text": [
      "{'C': 100, 'epsilon': 1, 'gamma': 0.5, 'kernel': 'rbf'}\n"
     ]
    }
   ],
   "source": [
    "print(svr_gs.best_params_)"
   ]
  },
  {
   "cell_type": "code",
   "execution_count": 57,
   "metadata": {},
   "outputs": [],
   "source": [
    "\n",
    "rfr_ypred = rfr_gs.best_estimator_.predict(xtest_scal)\n",
    "rfr_r2 = r2_score(y_true=ytest, y_pred=rfr_ypred)\n",
    "rfr_mse = mean_squared_error(y_true=ytest, y_pred=rfr_ypred)\n",
    "rfr_mae = mean_absolute_error(y_true=ytest, y_pred=rfr_ypred)"
   ]
  },
  {
   "cell_type": "code",
   "execution_count": 58,
   "metadata": {},
   "outputs": [
    {
     "name": "stdout",
     "output_type": "stream",
     "text": [
      "R2 score: 0.454217\n",
      "MAE: 0.676820\n",
      "MSE: 0.679428\n"
     ]
    }
   ],
   "source": [
    "\n",
    "print(f'R2 score: {rfr_r2:.6f}')\n",
    "print(f'MAE: {rfr_mae:.6f}')\n",
    "print(f'MSE: {rfr_mse:.6f}')"
   ]
  },
  {
   "cell_type": "code",
   "execution_count": 59,
   "metadata": {},
   "outputs": [
    {
     "data": {
      "image/png": "[encoded data removed]",
      "text/plain": [
       "<Figure size 432x288 with 1 Axes>"
      ]
     },
     "metadata": {
      "needs_background": "light"
     },
     "output_type": "display_data"
    }
   ],
   "source": [
    "# el modelo grafico\n",
    "plt.scatter(xtrain_scal,ytrain)\n",
    "plt.scatter(xtest_scal,rfr_ypred,color='blue')\n",
    "plt.title('Comparo datos train y prediction- modelo svr')\n",
    "plt.show()"
   ]
  },
  {
   "cell_type": "code",
   "execution_count": 60,
   "metadata": {},
   "outputs": [],
   "source": [
    "rfr_ypred_ext = rfr_gs.best_estimator_.predict(xtest_ext_scal)\n",
    "rfr_e_r2 = r2_score(y_true=ytest, y_pred=rfr_ypred_ext)\n",
    "rfr_e_mse = mean_squared_error(y_true=ytest, y_pred=rfr_ypred_ext)\n",
    "rfr_e_mae = mean_absolute_error(y_true=ytest, y_pred=rfr_ypred_ext)"
   ]
  },
  {
   "cell_type": "code",
   "execution_count": 61,
   "metadata": {},
   "outputs": [
    {
     "name": "stdout",
     "output_type": "stream",
     "text": [
      "R2 score: -2.702292\n",
      "MAE: 1.563464\n",
      "MSE: 4.608866\n"
     ]
    }
   ],
   "source": [
    "print(f'R2 score: {rfr_e_r2:.6f}')\n",
    "print(f'MAE: {rfr_e_mae:.6f}')\n",
    "print(f'MSE: {rfr_e_mse:.6f}')"
   ]
  },
  {
   "cell_type": "code",
   "execution_count": 62,
   "metadata": {},
   "outputs": [
    {
     "data": {
      "image/png": "[encoded data removed]",
      "text/plain": [
       "<Figure size 432x288 with 1 Axes>"
      ]
     },
     "metadata": {
      "needs_background": "light"
     },
     "output_type": "display_data"
    }
   ],
   "source": [
    "# el modelo grafico\n",
    "plt.scatter(xtrain_scal,ytrain)\n",
    "plt.scatter(xtest_ext_scal,rfr_ypred_ext,color='red')\n",
    "plt.title('Comparo datos train y prediction- modelo svr-datos nuevos')\n",
    "plt.show()"
   ]
  },
  {
   "cell_type": "code",
   "execution_count": 63,
   "metadata": {},
   "outputs": [],
   "source": [
    "\n",
    "results_df = pd.DataFrame(columns=['Model','R2','MSE','MAE'])"
   ]
  },
  {
   "cell_type": "code",
   "execution_count": 64,
   "metadata": {},
   "outputs": [],
   "source": [
    "results_df = results_df.append({'Model':'KNN Regression',\n",
    "                                'R2':knn_r2,\n",
    "                                'MSE':knn_mse,\n",
    "                                'MAE':knn_mae},ignore_index=True)"
   ]
  },
  {
   "cell_type": "code",
   "execution_count": 65,
   "metadata": {},
   "outputs": [],
   "source": [
    "\n",
    "results_df = results_df.append({'Model':'SVR',\n",
    "                                'R2':svr_r2,\n",
    "                                'MSE':svr_mse,\n",
    "                                'MAE':svr_mae},ignore_index=True)"
   ]
  },
  {
   "cell_type": "code",
   "execution_count": 66,
   "metadata": {},
   "outputs": [],
   "source": [
    "results_df = results_df.append({'Model':'Random Forest regressor',\n",
    "                                'R2':rfr_r2,\n",
    "                                'MSE':rfr_mse,\n",
    "                                'MAE':rfr_mae},ignore_index=True)"
   ]
  },
  {
   "cell_type": "code",
   "execution_count": 67,
   "metadata": {},
   "outputs": [
    {
     "data": {
      "text/html": [
       "<div>\n",
       "<style scoped>\n",
       "    .dataframe tbody tr th:only-of-type {\n",
       "        vertical-align: middle;\n",
       "    }\n",
       "\n",
       "    .dataframe tbody tr th {\n",
       "        vertical-align: top;\n",
       "    }\n",
       "\n",
       "    .dataframe thead th {\n",
       "        text-align: right;\n",
       "    }\n",
       "</style>\n",
       "<table border=\"1\" class=\"dataframe\">\n",
       "  <thead>\n",
       "    <tr style=\"text-align: right;\">\n",
       "      <th></th>\n",
       "      <th>Model</th>\n",
       "      <th>R2</th>\n",
       "      <th>MSE</th>\n",
       "      <th>MAE</th>\n",
       "    </tr>\n",
       "  </thead>\n",
       "  <tbody>\n",
       "    <tr>\n",
       "      <th>0</th>\n",
       "      <td>KNN Regression</td>\n",
       "      <td>0.457547</td>\n",
       "      <td>0.675282</td>\n",
       "      <td>0.687965</td>\n",
       "    </tr>\n",
       "    <tr>\n",
       "      <th>1</th>\n",
       "      <td>SVR</td>\n",
       "      <td>0.596712</td>\n",
       "      <td>0.502041</td>\n",
       "      <td>0.541795</td>\n",
       "    </tr>\n",
       "    <tr>\n",
       "      <th>2</th>\n",
       "      <td>Random Forest regressor</td>\n",
       "      <td>0.454217</td>\n",
       "      <td>0.679428</td>\n",
       "      <td>0.676820</td>\n",
       "    </tr>\n",
       "  </tbody>\n",
       "</table>\n",
       "</div>"
      ],
      "text/plain": [
       "                     Model        R2       MSE       MAE\n",
       "0           KNN Regression  0.457547  0.675282  0.687965\n",
       "1                      SVR  0.596712  0.502041  0.541795\n",
       "2  Random Forest regressor  0.454217  0.679428  0.676820"
      ]
     },
     "execution_count": 67,
     "metadata": {},
     "output_type": "execute_result"
    }
   ],
   "source": [
    "results_df"
   ]
  },
  {
   "cell_type": "markdown",
   "metadata": {},
   "source": [
    "#### Los datos de test externo en el histograma muestra que hay muchos datos de 7.5 y en los datos de train pocos, esto me indica que el modelo no tuvo entrenamiento con esto tipo de datos, igualmente eligo el modelo de svr, porque se adapto mas a mi modelo de train"
   ]
  },
  {
   "cell_type": "code",
   "execution_count": 68,
   "metadata": {},
   "outputs": [
    {
     "name": "stdout",
     "output_type": "stream",
     "text": [
      "[ 3.91154629e+00  3.85698003e+00  6.44238921e+00  4.17770119e+00\n",
      "  4.61207256e+00  3.77710265e+00  5.83277236e+00 -1.39905811e+00\n",
      "  8.05773133e+00  4.57677273e+00  5.00282409e+00  3.81632613e+00\n",
      "  8.21330999e+00  4.05295534e-03  4.74504220e+00  4.88678327e+00\n",
      "  4.58924632e+00  3.98575528e+00  3.79493807e+00  3.86564718e+00]\n"
     ]
    }
   ],
   "source": [
    "print(svr_ypred_ext)"
   ]
  },
  {
   "cell_type": "code",
   "execution_count": null,
   "metadata": {},
   "outputs": [],
   "source": []
  }
 ],
 "metadata": {
  "kernelspec": {
   "display_name": "Python 3",
   "language": "python",
   "name": "python3"
  },
  "language_info": {
   "codemirror_mode": {
    "name": "ipython",
    "version": 3
   },
   "file_extension": ".py",
   "mimetype": "text/x-python",
   "name": "python",
   "nbconvert_exporter": "python",
   "pygments_lexer": "ipython3",
   "version": "3.8.3"
  }
 },
 "nbformat": 4,
 "nbformat_minor": 4
}
